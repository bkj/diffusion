{
 "cells": [
  {
   "cell_type": "code",
   "execution_count": 15,
   "metadata": {},
   "outputs": [],
   "source": [
    "import pandas as pd\n",
    "import matplotlib.pyplot as plt\n",
    "import numpy as np\n",
    "import seaborn as sns\n",
    "import imgkit\n",
    "\n",
    "\n",
    "def get_ranked_rows(df, n_argmax, col_keyname):\n",
    "    print(col_keyname)\n",
    "    top_n = {}\n",
    "    for i in df[col_keyname]:\n",
    "        idx = df.loc[df[col_keyname] == i, df.columns != col_keyname].abs().values.argsort(1)[:, -n_argmax:][:, ::-1]\n",
    "        idx += 1\n",
    "        cols = df.columns[idx][0]\n",
    "        for col in cols:\n",
    "            if col in top_n.keys():\n",
    "                top_n[col] += 1\n",
    "            else:\n",
    "                top_n[col] = 1\n",
    "    return top_n\n",
    "\n",
    "def highlight_max(s):    \n",
    "    is_max = s == s.max()\n",
    "    return ['color: red' if v else '' for v in is_max]\n",
    "\n",
    "def highlight_min(s):    \n",
    "    is_max = s == s.min()\n",
    "    return ['color: white' if v else '' for v in is_max]\n"
   ]
  },
  {
   "cell_type": "code",
   "execution_count": 46,
   "metadata": {},
   "outputs": [],
   "source": [
    "# Initialize and clean the results\n",
    "df = pd.read_csv('/Users/ezekielbarnett/Documents/canfield/diffusion/results/ucr/results_ucr.csv')\n",
    "cols=[i for i in df.columns if i not in [\"dataset\"]]\n",
    "for col in cols:\n",
    "    df[col]=pd.to_numeric(df[col])\n",
    "\n",
    "# Save best algo on each run\n",
    "top1 = df.loc[:, df.columns != 'dataset'].idxmax(axis=1)\n",
    "top1 = dict(top1.value_counts())\n",
    "cols = [k for k,v in top1.items() if v >= 5]\n",
    "cols.append('dataset')\n",
    "df_check = df[cols]\n",
    "\n",
    "# Add state of the art from (https://github.com/cauchyturing/UCR_Time_Series_Classification_Deep_Learning_Baseline)\n",
    "df_soa = pd.read_csv('/Users/ezekielbarnett/Documents/canfield/diffusion/results/ucr/stateofart.csv')\n",
    "df_soa = df_soa.rename(columns={'Unnamed: 0':'dataset'}) \n",
    "df_soa = df_soa.replace('/', np.nan)\n",
    "cols=[i for i in df_soa.columns if i not in [\"dataset\"]]\n",
    "\n",
    "# Have \"error rate\" which I assume is equivalent to: 1 - acc\n",
    "for col in cols:\n",
    "    df_soa[col] = 1 - pd.to_numeric(df_soa[col],errors='coerce')\n",
    "df_soa = df_soa.replace(np.nan, 0)\n",
    "\n",
    "# Add info on the dataset\n",
    "df_summary = pd.read_csv('/Users/ezekielbarnett/Documents/canfield/diffusion/results/ucr/DataSummary.csv')\n",
    "df_summary = df_summary.rename(columns={'Name':'dataset'})\n",
    "df_summary = df_summary[['Type', 'dataset', 'Train ', 'Test ', 'Class']]\n",
    "df_stateofArt = df_check.join(df_soa.set_index('dataset'), on='dataset')\n",
    "df_stateofArt = df_stateofArt.join(df_summary.set_index('dataset'), on='dataset')\n",
    "df_stateofArt = df_stateofArt.drop(['Train ', 'Test ', 'Class'], axis =1)\n"
   ]
  },
  {
   "cell_type": "code",
   "execution_count": 44,
   "metadata": {},
   "outputs": [
    {
     "name": "stdout",
     "output_type": "stream",
     "text": [
      "Loading page (1/2)\n",
      "[>                                                           ] 0%\r",
      "[======>                                                     ] 10%\r",
      "[==============================>                             ] 50%\r",
      "[============================================================] 100%\r",
      "Rendering (2/2)                                                    \n",
      "[>                                                           ] 0%\r",
      "[===============>                                            ] 25%\r",
      "[============================================================] 100%\r",
      "Done                                                               \n"
     ]
    },
    {
     "data": {
      "text/plain": [
       "True"
      ]
     },
     "execution_count": 44,
     "metadata": {},
     "output_type": "execute_result"
    }
   ],
   "source": [
    "df_type = df_stateofArt.groupby('Type').mean()\n",
    "table = df_type.style.background_gradient(cmap='viridis_r', axis = 1).apply(highlight_max, axis = 1)\n",
    "table\n",
    "html = table.render()\n",
    "imgkit.from_string(html, '/Users/ezekielbarnett/Documents/canfield/diffusion/results/ucr/SOTA_categories.png')"
   ]
  },
  {
   "cell_type": "code",
   "execution_count": 45,
   "metadata": {},
   "outputs": [],
   "source": [
    "df_stateofArt = df_check.join(df_soa.set_index('dataset'), on='dataset')\n",
    "df_stateofArt = df_stateofArt.join(df_summary.set_index('dataset'), on='dataset')\n",
    "df_stateofArt = df_stateofArt.drop(['Train ', 'Test ','Type'], axis =1)\n",
    "df_type = df_stateofArt.groupby('Class').mean()\n",
    "table = df_type.style.background_gradient(cmap='viridis_r', low = .1).apply(highlight_max, axis = 1).apply(highlight_min, axis=1)"
   ]
  },
  {
   "cell_type": "code",
   "execution_count": 42,
   "metadata": {},
   "outputs": [
    {
     "name": "stdout",
     "output_type": "stream",
     "text": [
      "Loading page (1/2)\n",
      "[>                                                           ] 0%\r",
      "[======>                                                     ] 10%\r",
      "[==============================>                             ] 50%\r",
      "[============================================================] 100%\r",
      "Rendering (2/2)                                                    \n",
      "[>                                                           ] 0%\r",
      "[===============>                                            ] 25%\r",
      "[============================================================] 100%\r",
      "Done                                                               \n"
     ]
    },
    {
     "data": {
      "text/plain": [
       "True"
      ]
     },
     "execution_count": 42,
     "metadata": {},
     "output_type": "execute_result"
    }
   ],
   "source": [
    "df_stateofArt = df_check.join(df_soa.set_index('dataset'), on='dataset')\n",
    "df_stateofArt = df_stateofArt.join(df_summary.set_index('dataset'), on='dataset')\n",
    "df_stateofArt['groups']=pd.cut(df_stateofArt['Train '],[0,50,100,200,300,500,999])\n",
    "df_stateofArt = df_stateofArt.drop(['Class', 'Test ','Train ','Type'], axis =1)\n",
    "df_type = df_stateofArt.groupby('groups').mean()\n",
    "table = df_type.style.background_gradient(cmap='viridis_r', axis = 1).apply(highlight_max, axis = 1)\n",
    "table\n",
    "html = table.render()\n",
    "imgkit.from_string(html, '/Users/ezekielbarnett/Documents/canfield/diffusion/results/ucr/SOTA_lengths.png')\n"
   ]
  },
  {
   "cell_type": "code",
   "execution_count": 160,
   "metadata": {},
   "outputs": [
    {
     "name": "stdout",
     "output_type": "stream",
     "text": [
      "Loading page (1/2)\n",
      "[>                                                           ] 0%\r",
      "[======>                                                     ] 10%\r",
      "[==============================>                             ] 50%\r",
      "[============================================================] 100%\r",
      "Rendering (2/2)                                                    \n",
      "[>                                                           ] 0%\r",
      "[===============>                                            ] 25%\r",
      "[============================================================] 100%\r",
      "Done                                                               \n"
     ]
    },
    {
     "data": {
      "text/plain": [
       "True"
      ]
     },
     "execution_count": 160,
     "metadata": {},
     "output_type": "execute_result"
    }
   ],
   "source": [
    "# Join the dataframes and see what performs best... note some names don't match\n",
    "df_stateofArt = df_check.join(df_soa.set_index('dataset'), on='dataset')\n",
    "df_stateofArt = df_stateofArt.set_index('dataset', drop = True)\n",
    "table = df_stateofArt.iloc[:,1::].style.apply(highlight_max, axis = 1)\n",
    "html = table.render()\n",
    "imgkit.from_string(html, '/Users/ezekielbarnett/Documents/canfield/diffusion/results/ucr/SOTA.png')\n"
   ]
  },
  {
   "cell_type": "code",
   "execution_count": 161,
   "metadata": {},
   "outputs": [
    {
     "name": "stdout",
     "output_type": "stream",
     "text": [
      "Loading page (1/2)\n",
      "[>                                                           ] 0%\r",
      "[======>                                                     ] 10%\r",
      "[==============================>                             ] 50%\r",
      "[============================================================] 100%\r",
      "Rendering (2/2)                                                    \n",
      "[>                                                           ] 0%\r",
      "[===============>                                            ] 25%\r",
      "[============================================================] 100%\r",
      "Done                                                               \n"
     ]
    },
    {
     "data": {
      "text/plain": [
       "True"
      ]
     },
     "execution_count": 161,
     "metadata": {},
     "output_type": "execute_result"
    }
   ],
   "source": [
    "cm = sns.light_palette(\"green\", as_cmap=True)\n",
    "table = df_stateofArt.style.background_gradient(cmap='viridis_r', low = .1, axis = 1).apply(highlight_max, axis = 1).apply(highlight_min, axis=1)\n",
    "html = table.render()\n",
    "imgkit.from_string(html, '/Users/ezekielbarnett/Documents/canfield/diffusion/results/ucr/SOTA_colorROW.png')\n"
   ]
  },
  {
   "cell_type": "code",
   "execution_count": 162,
   "metadata": {},
   "outputs": [
    {
     "name": "stdout",
     "output_type": "stream",
     "text": [
      "Loading page (1/2)\n",
      "[>                                                           ] 0%\r",
      "[======>                                                     ] 10%\r",
      "[==============================>                             ] 50%\r",
      "[============================================================] 100%\r",
      "Rendering (2/2)                                                    \n",
      "[>                                                           ] 0%\r",
      "[===============>                                            ] 25%\r",
      "[============================================================] 100%\r",
      "Done                                                               \n"
     ]
    },
    {
     "data": {
      "text/plain": [
       "True"
      ]
     },
     "execution_count": 162,
     "metadata": {},
     "output_type": "execute_result"
    }
   ],
   "source": [
    "cm = sns.light_palette(\"green\", as_cmap=True)\n",
    "table = df_stateofArt.style.background_gradient(cmap='viridis_r', low = .1).apply(highlight_max, axis = 1).apply(highlight_min, axis=1)\n",
    "html = table.render()\n",
    "imgkit.from_string(html, '/Users/ezekielbarnett/Documents/canfield/diffusion/results/ucr/SOTA_color.png')\n"
   ]
  }
 ],
 "metadata": {
  "kernelspec": {
   "display_name": "diffusion_env",
   "language": "python",
   "name": "diffusion_env"
  },
  "language_info": {
   "codemirror_mode": {
    "name": "ipython",
    "version": 3
   },
   "file_extension": ".py",
   "mimetype": "text/x-python",
   "name": "python",
   "nbconvert_exporter": "python",
   "pygments_lexer": "ipython3",
   "version": "3.7.0"
  }
 },
 "nbformat": 4,
 "nbformat_minor": 2
}
